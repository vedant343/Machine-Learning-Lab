{
 "cells": [
  {
   "cell_type": "code",
   "execution_count": 31,
   "id": "5cc65586",
   "metadata": {},
   "outputs": [],
   "source": [
    "import pandas as pd\n",
    "import numpy as np\n",
    "import matplotlib.pyplot as plt\n",
    "import seaborn as sns\n",
    "from ipywidgets import widgets\n",
    "from sklearn.model_selection import train_test_split, GridSearchCV\n",
    "from sklearn.naive_bayes import GaussianNB\n",
    "from sklearn.svm import SVC\n",
    "from sklearn.ensemble import RandomForestClassifier\n",
    "from sklearn.metrics import confusion_matrix, ConfusionMatrixDisplay, classification_report"
   ]
  },
  {
   "cell_type": "code",
   "execution_count": 2,
   "id": "685c2899",
   "metadata": {},
   "outputs": [],
   "source": [
    "titanic = pd.read_csv('Titanic_data.csv')"
   ]
  },
  {
   "cell_type": "code",
   "execution_count": 3,
   "id": "e39e94bc",
   "metadata": {},
   "outputs": [
    {
     "data": {
      "text/html": [
       "<div>\n",
       "<style scoped>\n",
       "    .dataframe tbody tr th:only-of-type {\n",
       "        vertical-align: middle;\n",
       "    }\n",
       "\n",
       "    .dataframe tbody tr th {\n",
       "        vertical-align: top;\n",
       "    }\n",
       "\n",
       "    .dataframe thead th {\n",
       "        text-align: right;\n",
       "    }\n",
       "</style>\n",
       "<table border=\"1\" class=\"dataframe\">\n",
       "  <thead>\n",
       "    <tr style=\"text-align: right;\">\n",
       "      <th></th>\n",
       "      <th>PassengerId</th>\n",
       "      <th>Survived</th>\n",
       "      <th>Pclass</th>\n",
       "      <th>Name</th>\n",
       "      <th>Sex</th>\n",
       "      <th>Age</th>\n",
       "      <th>SibSp</th>\n",
       "      <th>Parch</th>\n",
       "      <th>Ticket</th>\n",
       "      <th>Fare</th>\n",
       "      <th>Cabin</th>\n",
       "      <th>Embarked</th>\n",
       "    </tr>\n",
       "  </thead>\n",
       "  <tbody>\n",
       "    <tr>\n",
       "      <th>0</th>\n",
       "      <td>1</td>\n",
       "      <td>0</td>\n",
       "      <td>3</td>\n",
       "      <td>Braund, Mr. Owen Harris</td>\n",
       "      <td>male</td>\n",
       "      <td>22.0</td>\n",
       "      <td>1</td>\n",
       "      <td>0</td>\n",
       "      <td>A/5 21171</td>\n",
       "      <td>7.2500</td>\n",
       "      <td>NaN</td>\n",
       "      <td>S</td>\n",
       "    </tr>\n",
       "    <tr>\n",
       "      <th>1</th>\n",
       "      <td>2</td>\n",
       "      <td>1</td>\n",
       "      <td>1</td>\n",
       "      <td>Cumings, Mrs. John Bradley (Florence Briggs Th...</td>\n",
       "      <td>female</td>\n",
       "      <td>38.0</td>\n",
       "      <td>1</td>\n",
       "      <td>0</td>\n",
       "      <td>PC 17599</td>\n",
       "      <td>71.2833</td>\n",
       "      <td>C85</td>\n",
       "      <td>C</td>\n",
       "    </tr>\n",
       "    <tr>\n",
       "      <th>2</th>\n",
       "      <td>3</td>\n",
       "      <td>1</td>\n",
       "      <td>3</td>\n",
       "      <td>Heikkinen, Miss. Laina</td>\n",
       "      <td>female</td>\n",
       "      <td>26.0</td>\n",
       "      <td>0</td>\n",
       "      <td>0</td>\n",
       "      <td>STON/O2. 3101282</td>\n",
       "      <td>7.9250</td>\n",
       "      <td>NaN</td>\n",
       "      <td>S</td>\n",
       "    </tr>\n",
       "    <tr>\n",
       "      <th>3</th>\n",
       "      <td>4</td>\n",
       "      <td>1</td>\n",
       "      <td>1</td>\n",
       "      <td>Futrelle, Mrs. Jacques Heath (Lily May Peel)</td>\n",
       "      <td>female</td>\n",
       "      <td>35.0</td>\n",
       "      <td>1</td>\n",
       "      <td>0</td>\n",
       "      <td>113803</td>\n",
       "      <td>53.1000</td>\n",
       "      <td>C123</td>\n",
       "      <td>S</td>\n",
       "    </tr>\n",
       "    <tr>\n",
       "      <th>4</th>\n",
       "      <td>5</td>\n",
       "      <td>0</td>\n",
       "      <td>3</td>\n",
       "      <td>Allen, Mr. William Henry</td>\n",
       "      <td>male</td>\n",
       "      <td>35.0</td>\n",
       "      <td>0</td>\n",
       "      <td>0</td>\n",
       "      <td>373450</td>\n",
       "      <td>8.0500</td>\n",
       "      <td>NaN</td>\n",
       "      <td>S</td>\n",
       "    </tr>\n",
       "  </tbody>\n",
       "</table>\n",
       "</div>"
      ],
      "text/plain": [
       "   PassengerId  Survived  Pclass  \\\n",
       "0            1         0       3   \n",
       "1            2         1       1   \n",
       "2            3         1       3   \n",
       "3            4         1       1   \n",
       "4            5         0       3   \n",
       "\n",
       "                                                Name     Sex   Age  SibSp  \\\n",
       "0                            Braund, Mr. Owen Harris    male  22.0      1   \n",
       "1  Cumings, Mrs. John Bradley (Florence Briggs Th...  female  38.0      1   \n",
       "2                             Heikkinen, Miss. Laina  female  26.0      0   \n",
       "3       Futrelle, Mrs. Jacques Heath (Lily May Peel)  female  35.0      1   \n",
       "4                           Allen, Mr. William Henry    male  35.0      0   \n",
       "\n",
       "   Parch            Ticket     Fare Cabin Embarked  \n",
       "0      0         A/5 21171   7.2500   NaN        S  \n",
       "1      0          PC 17599  71.2833   C85        C  \n",
       "2      0  STON/O2. 3101282   7.9250   NaN        S  \n",
       "3      0            113803  53.1000  C123        S  \n",
       "4      0            373450   8.0500   NaN        S  "
      ]
     },
     "execution_count": 3,
     "metadata": {},
     "output_type": "execute_result"
    }
   ],
   "source": [
    "titanic.head()"
   ]
  },
  {
   "cell_type": "markdown",
   "id": "8661b031",
   "metadata": {},
   "source": [
    "# Data cleaning"
   ]
  },
  {
   "cell_type": "code",
   "execution_count": 4,
   "id": "52a4eebe",
   "metadata": {},
   "outputs": [],
   "source": [
    "titanic.drop(columns=['PassengerId', 'Name', 'SibSp', 'Parch', 'Ticket', 'Cabin', 'Pclass'], inplace=True)"
   ]
  },
  {
   "cell_type": "code",
   "execution_count": 5,
   "id": "2320a7de",
   "metadata": {},
   "outputs": [
    {
     "name": "stdout",
     "output_type": "stream",
     "text": [
      "<class 'pandas.core.frame.DataFrame'>\n",
      "RangeIndex: 891 entries, 0 to 890\n",
      "Data columns (total 5 columns):\n",
      " #   Column    Non-Null Count  Dtype  \n",
      "---  ------    --------------  -----  \n",
      " 0   Survived  891 non-null    int64  \n",
      " 1   Sex       891 non-null    object \n",
      " 2   Age       714 non-null    float64\n",
      " 3   Fare      891 non-null    float64\n",
      " 4   Embarked  889 non-null    object \n",
      "dtypes: float64(2), int64(1), object(2)\n",
      "memory usage: 34.9+ KB\n"
     ]
    }
   ],
   "source": [
    "titanic.info()"
   ]
  },
  {
   "cell_type": "code",
   "execution_count": 6,
   "id": "0a45b313",
   "metadata": {},
   "outputs": [],
   "source": [
    "titanic['Age'].fillna(titanic['Age'].mean(), inplace=True)"
   ]
  },
  {
   "cell_type": "code",
   "execution_count": 7,
   "id": "f3af3c90",
   "metadata": {},
   "outputs": [],
   "source": [
    "titanic.dropna(inplace=True)"
   ]
  },
  {
   "cell_type": "code",
   "execution_count": 8,
   "id": "d47927c4",
   "metadata": {},
   "outputs": [
    {
     "data": {
      "text/plain": [
       "S    644\n",
       "C    168\n",
       "Q     77\n",
       "Name: Embarked, dtype: int64"
      ]
     },
     "execution_count": 8,
     "metadata": {},
     "output_type": "execute_result"
    }
   ],
   "source": [
    "titanic['Embarked'].value_counts()"
   ]
  },
  {
   "cell_type": "code",
   "execution_count": 9,
   "id": "cbeed7c3",
   "metadata": {},
   "outputs": [],
   "source": [
    "# Ordinal encoding Embarked col\n",
    "titanic['Embarked'] = titanic['Embarked'].map({\n",
    "    'S':0,\n",
    "    'C':1,\n",
    "    'Q':2\n",
    "})"
   ]
  },
  {
   "cell_type": "code",
   "execution_count": 10,
   "id": "35d4a300",
   "metadata": {},
   "outputs": [],
   "source": [
    "# Ordinal encoding Sex col\n",
    "titanic['Sex'] = titanic['Sex'].map({\n",
    "    'female':0,\n",
    "    'male':1\n",
    "})"
   ]
  },
  {
   "cell_type": "code",
   "execution_count": 11,
   "id": "0e502acb",
   "metadata": {},
   "outputs": [
    {
     "name": "stdout",
     "output_type": "stream",
     "text": [
      "<class 'pandas.core.frame.DataFrame'>\n",
      "Int64Index: 889 entries, 0 to 890\n",
      "Data columns (total 5 columns):\n",
      " #   Column    Non-Null Count  Dtype  \n",
      "---  ------    --------------  -----  \n",
      " 0   Survived  889 non-null    int64  \n",
      " 1   Sex       889 non-null    int64  \n",
      " 2   Age       889 non-null    float64\n",
      " 3   Fare      889 non-null    float64\n",
      " 4   Embarked  889 non-null    int64  \n",
      "dtypes: float64(2), int64(3)\n",
      "memory usage: 41.7 KB\n"
     ]
    }
   ],
   "source": [
    "titanic.info()"
   ]
  },
  {
   "cell_type": "markdown",
   "id": "5d74cce2",
   "metadata": {},
   "source": [
    "# Analysing"
   ]
  },
  {
   "cell_type": "code",
   "execution_count": 12,
   "id": "9316682b",
   "metadata": {},
   "outputs": [
    {
     "data": {
      "text/html": [
       "<div>\n",
       "<style scoped>\n",
       "    .dataframe tbody tr th:only-of-type {\n",
       "        vertical-align: middle;\n",
       "    }\n",
       "\n",
       "    .dataframe tbody tr th {\n",
       "        vertical-align: top;\n",
       "    }\n",
       "\n",
       "    .dataframe thead th {\n",
       "        text-align: right;\n",
       "    }\n",
       "</style>\n",
       "<table border=\"1\" class=\"dataframe\">\n",
       "  <thead>\n",
       "    <tr style=\"text-align: right;\">\n",
       "      <th></th>\n",
       "      <th>Survived</th>\n",
       "      <th>Sex</th>\n",
       "      <th>Age</th>\n",
       "      <th>Fare</th>\n",
       "      <th>Embarked</th>\n",
       "    </tr>\n",
       "  </thead>\n",
       "  <tbody>\n",
       "    <tr>\n",
       "      <th>0</th>\n",
       "      <td>0</td>\n",
       "      <td>1</td>\n",
       "      <td>22.0</td>\n",
       "      <td>7.2500</td>\n",
       "      <td>0</td>\n",
       "    </tr>\n",
       "    <tr>\n",
       "      <th>1</th>\n",
       "      <td>1</td>\n",
       "      <td>0</td>\n",
       "      <td>38.0</td>\n",
       "      <td>71.2833</td>\n",
       "      <td>1</td>\n",
       "    </tr>\n",
       "    <tr>\n",
       "      <th>2</th>\n",
       "      <td>1</td>\n",
       "      <td>0</td>\n",
       "      <td>26.0</td>\n",
       "      <td>7.9250</td>\n",
       "      <td>0</td>\n",
       "    </tr>\n",
       "    <tr>\n",
       "      <th>3</th>\n",
       "      <td>1</td>\n",
       "      <td>0</td>\n",
       "      <td>35.0</td>\n",
       "      <td>53.1000</td>\n",
       "      <td>0</td>\n",
       "    </tr>\n",
       "    <tr>\n",
       "      <th>4</th>\n",
       "      <td>0</td>\n",
       "      <td>1</td>\n",
       "      <td>35.0</td>\n",
       "      <td>8.0500</td>\n",
       "      <td>0</td>\n",
       "    </tr>\n",
       "  </tbody>\n",
       "</table>\n",
       "</div>"
      ],
      "text/plain": [
       "   Survived  Sex   Age     Fare  Embarked\n",
       "0         0    1  22.0   7.2500         0\n",
       "1         1    0  38.0  71.2833         1\n",
       "2         1    0  26.0   7.9250         0\n",
       "3         1    0  35.0  53.1000         0\n",
       "4         0    1  35.0   8.0500         0"
      ]
     },
     "execution_count": 12,
     "metadata": {},
     "output_type": "execute_result"
    }
   ],
   "source": [
    "titanic.head()"
   ]
  },
  {
   "cell_type": "markdown",
   "id": "00d7f6ab",
   "metadata": {},
   "source": [
    "# Splitting Data"
   ]
  },
  {
   "cell_type": "code",
   "execution_count": 13,
   "id": "280c44cb",
   "metadata": {},
   "outputs": [],
   "source": [
    "X = titanic.drop(columns=['Survived'])"
   ]
  },
  {
   "cell_type": "code",
   "execution_count": 14,
   "id": "077d1807",
   "metadata": {},
   "outputs": [],
   "source": [
    "y = titanic['Survived']"
   ]
  },
  {
   "cell_type": "code",
   "execution_count": 15,
   "id": "4c606d14",
   "metadata": {},
   "outputs": [],
   "source": [
    "X_train, X_test, y_train, y_test = train_test_split(X, y, random_state=69)"
   ]
  },
  {
   "cell_type": "markdown",
   "id": "92786f80",
   "metadata": {},
   "source": [
    "# Building Naive Bayes Model"
   ]
  },
  {
   "cell_type": "code",
   "execution_count": 16,
   "id": "8fa298a2",
   "metadata": {},
   "outputs": [],
   "source": [
    "model_nb = GaussianNB()"
   ]
  },
  {
   "cell_type": "code",
   "execution_count": 17,
   "id": "b079a47f",
   "metadata": {},
   "outputs": [
    {
     "data": {
      "text/plain": [
       "GaussianNB()"
      ]
     },
     "execution_count": 17,
     "metadata": {},
     "output_type": "execute_result"
    }
   ],
   "source": [
    "model_nb.fit(X_train, y_train)"
   ]
  },
  {
   "cell_type": "code",
   "execution_count": 18,
   "id": "2df9fa18",
   "metadata": {},
   "outputs": [],
   "source": [
    "y_pred_nb = model_nb.predict(X_test)"
   ]
  },
  {
   "cell_type": "code",
   "execution_count": 19,
   "id": "592b9f32",
   "metadata": {},
   "outputs": [
    {
     "data": {
      "text/plain": [
       "83.85650224215246"
      ]
     },
     "execution_count": 19,
     "metadata": {},
     "output_type": "execute_result"
    }
   ],
   "source": [
    "model_nb.score(X_test, y_test)*100"
   ]
  },
  {
   "cell_type": "code",
   "execution_count": 20,
   "id": "f56ded64",
   "metadata": {},
   "outputs": [
    {
     "data": {
      "text/plain": [
       "<sklearn.metrics._plot.confusion_matrix.ConfusionMatrixDisplay at 0x1fbc695aa60>"
      ]
     },
     "execution_count": 20,
     "metadata": {},
     "output_type": "execute_result"
    },
    {
     "data": {
      "image/png": "[encoded data removed]",
      "text/plain": [
       "<Figure size 640x480 with 2 Axes>"
      ]
     },
     "metadata": {},
     "output_type": "display_data"
    }
   ],
   "source": [
    "conf_mat_nb = confusion_matrix(y_test, y_pred_nb)\n",
    "ConfusionMatrixDisplay(conf_mat_nb).plot()"
   ]
  },
  {
   "cell_type": "code",
   "execution_count": 21,
   "id": "95c9c111",
   "metadata": {},
   "outputs": [
    {
     "name": "stdout",
     "output_type": "stream",
     "text": [
      "              precision    recall  f1-score   support\n",
      "\n",
      "           0       0.88      0.89      0.88       151\n",
      "           1       0.76      0.74      0.75        72\n",
      "\n",
      "    accuracy                           0.84       223\n",
      "   macro avg       0.82      0.81      0.81       223\n",
      "weighted avg       0.84      0.84      0.84       223\n",
      "\n"
     ]
    }
   ],
   "source": [
    "print(classification_report(y_test, y_pred_nb))"
   ]
  },
  {
   "cell_type": "markdown",
   "id": "31263ac1",
   "metadata": {},
   "source": [
    "# Building SVM Model"
   ]
  },
  {
   "cell_type": "code",
   "execution_count": 22,
   "id": "d5f4332b",
   "metadata": {},
   "outputs": [],
   "source": [
    "#model_SVM = SVC(kernel='linear', gamma='auto', C=2)"
   ]
  },
  {
   "cell_type": "code",
   "execution_count": 23,
   "id": "9de8e5bd",
   "metadata": {},
   "outputs": [],
   "source": [
    "param_grid = {'C': [0.1, 1, 3, 10, 20],  \n",
    "              'gamma': [1, 0.1, 0.01, 0.001, 0.0001], \n",
    "              'kernel': ['linear']}  "
   ]
  },
  {
   "cell_type": "code",
   "execution_count": 24,
   "id": "67b3b8cb",
   "metadata": {},
   "outputs": [],
   "source": [
    "model_SVM = GridSearchCV(SVC(), param_grid, refit = True, verbose = 3)"
   ]
  },
  {
   "cell_type": "code",
   "execution_count": 25,
   "id": "233a5e7a",
   "metadata": {},
   "outputs": [
    {
     "name": "stdout",
     "output_type": "stream",
     "text": [
      "Fitting 5 folds for each of 25 candidates, totalling 125 fits\n",
      "[CV 1/5] END .....C=0.1, gamma=1, kernel=linear;, score=0.754 total time=   0.0s\n",
      "[CV 2/5] END .....C=0.1, gamma=1, kernel=linear;, score=0.767 total time=   0.0s\n",
      "[CV 3/5] END .....C=0.1, gamma=1, kernel=linear;, score=0.805 total time=   0.0s\n",
      "[CV 4/5] END .....C=0.1, gamma=1, kernel=linear;, score=0.737 total time=   0.0s\n",
      "[CV 5/5] END .....C=0.1, gamma=1, kernel=linear;, score=0.767 total time=   0.0s\n",
      "[CV 1/5] END ...C=0.1, gamma=0.1, kernel=linear;, score=0.754 total time=   0.0s\n",
      "[CV 2/5] END ...C=0.1, gamma=0.1, kernel=linear;, score=0.767 total time=   0.0s\n",
      "[CV 3/5] END ...C=0.1, gamma=0.1, kernel=linear;, score=0.805 total time=   0.0s\n",
      "[CV 4/5] END ...C=0.1, gamma=0.1, kernel=linear;, score=0.737 total time=   0.0s\n",
      "[CV 5/5] END ...C=0.1, gamma=0.1, kernel=linear;, score=0.767 total time=   0.0s\n",
      "[CV 1/5] END ..C=0.1, gamma=0.01, kernel=linear;, score=0.754 total time=   0.0s\n",
      "[CV 2/5] END ..C=0.1, gamma=0.01, kernel=linear;, score=0.767 total time=   0.0s\n",
      "[CV 3/5] END ..C=0.1, gamma=0.01, kernel=linear;, score=0.805 total time=   0.0s\n",
      "[CV 4/5] END ..C=0.1, gamma=0.01, kernel=linear;, score=0.737 total time=   0.0s\n",
      "[CV 5/5] END ..C=0.1, gamma=0.01, kernel=linear;, score=0.767 total time=   0.0s\n",
      "[CV 1/5] END .C=0.1, gamma=0.001, kernel=linear;, score=0.754 total time=   0.0s\n",
      "[CV 2/5] END .C=0.1, gamma=0.001, kernel=linear;, score=0.767 total time=   0.0s\n",
      "[CV 3/5] END .C=0.1, gamma=0.001, kernel=linear;, score=0.805 total time=   0.0s\n",
      "[CV 4/5] END .C=0.1, gamma=0.001, kernel=linear;, score=0.737 total time=   0.0s\n",
      "[CV 5/5] END .C=0.1, gamma=0.001, kernel=linear;, score=0.767 total time=   0.0s\n",
      "[CV 1/5] END C=0.1, gamma=0.0001, kernel=linear;, score=0.754 total time=   0.0s\n",
      "[CV 2/5] END C=0.1, gamma=0.0001, kernel=linear;, score=0.767 total time=   0.0s\n",
      "[CV 3/5] END C=0.1, gamma=0.0001, kernel=linear;, score=0.805 total time=   0.0s\n",
      "[CV 4/5] END C=0.1, gamma=0.0001, kernel=linear;, score=0.737 total time=   0.0s\n",
      "[CV 5/5] END C=0.1, gamma=0.0001, kernel=linear;, score=0.767 total time=   0.0s\n",
      "[CV 1/5] END .......C=1, gamma=1, kernel=linear;, score=0.754 total time=   9.3s\n",
      "[CV 2/5] END .......C=1, gamma=1, kernel=linear;, score=0.767 total time=   8.3s\n",
      "[CV 3/5] END .......C=1, gamma=1, kernel=linear;, score=0.805 total time=   6.9s\n",
      "[CV 4/5] END .......C=1, gamma=1, kernel=linear;, score=0.737 total time=   9.3s\n",
      "[CV 5/5] END .......C=1, gamma=1, kernel=linear;, score=0.767 total time=   7.4s\n",
      "[CV 1/5] END .....C=1, gamma=0.1, kernel=linear;, score=0.754 total time=   9.2s\n",
      "[CV 2/5] END .....C=1, gamma=0.1, kernel=linear;, score=0.767 total time=   8.2s\n",
      "[CV 3/5] END .....C=1, gamma=0.1, kernel=linear;, score=0.805 total time=   6.9s\n",
      "[CV 4/5] END .....C=1, gamma=0.1, kernel=linear;, score=0.737 total time=   9.4s\n",
      "[CV 5/5] END .....C=1, gamma=0.1, kernel=linear;, score=0.767 total time=   7.3s\n",
      "[CV 1/5] END ....C=1, gamma=0.01, kernel=linear;, score=0.754 total time=   9.2s\n",
      "[CV 2/5] END ....C=1, gamma=0.01, kernel=linear;, score=0.767 total time=   8.2s\n",
      "[CV 3/5] END ....C=1, gamma=0.01, kernel=linear;, score=0.805 total time=   6.8s\n",
      "[CV 4/5] END ....C=1, gamma=0.01, kernel=linear;, score=0.737 total time=   9.3s\n",
      "[CV 5/5] END ....C=1, gamma=0.01, kernel=linear;, score=0.767 total time=   7.3s\n",
      "[CV 1/5] END ...C=1, gamma=0.001, kernel=linear;, score=0.754 total time=   9.3s\n",
      "[CV 2/5] END ...C=1, gamma=0.001, kernel=linear;, score=0.767 total time=   8.3s\n",
      "[CV 3/5] END ...C=1, gamma=0.001, kernel=linear;, score=0.805 total time=   6.9s\n",
      "[CV 4/5] END ...C=1, gamma=0.001, kernel=linear;, score=0.737 total time=   9.3s\n",
      "[CV 5/5] END ...C=1, gamma=0.001, kernel=linear;, score=0.767 total time=   7.3s\n",
      "[CV 1/5] END ..C=1, gamma=0.0001, kernel=linear;, score=0.754 total time=   9.2s\n",
      "[CV 2/5] END ..C=1, gamma=0.0001, kernel=linear;, score=0.767 total time=   8.2s\n",
      "[CV 3/5] END ..C=1, gamma=0.0001, kernel=linear;, score=0.805 total time=   6.9s\n",
      "[CV 4/5] END ..C=1, gamma=0.0001, kernel=linear;, score=0.737 total time=   9.3s\n",
      "[CV 5/5] END ..C=1, gamma=0.0001, kernel=linear;, score=0.767 total time=   7.4s\n",
      "[CV 1/5] END .......C=3, gamma=1, kernel=linear;, score=0.754 total time=  12.7s\n",
      "[CV 2/5] END .......C=3, gamma=1, kernel=linear;, score=0.767 total time=  11.9s\n",
      "[CV 3/5] END .......C=3, gamma=1, kernel=linear;, score=0.805 total time=   8.4s\n",
      "[CV 4/5] END .......C=3, gamma=1, kernel=linear;, score=0.737 total time=  11.7s\n",
      "[CV 5/5] END .......C=3, gamma=1, kernel=linear;, score=0.767 total time=   8.9s\n",
      "[CV 1/5] END .....C=3, gamma=0.1, kernel=linear;, score=0.754 total time=  12.9s\n",
      "[CV 2/5] END .....C=3, gamma=0.1, kernel=linear;, score=0.767 total time=  11.8s\n",
      "[CV 3/5] END .....C=3, gamma=0.1, kernel=linear;, score=0.805 total time=   8.4s\n",
      "[CV 4/5] END .....C=3, gamma=0.1, kernel=linear;, score=0.737 total time=  11.7s\n",
      "[CV 5/5] END .....C=3, gamma=0.1, kernel=linear;, score=0.767 total time=   8.8s\n",
      "[CV 1/5] END ....C=3, gamma=0.01, kernel=linear;, score=0.754 total time=  12.6s\n",
      "[CV 2/5] END ....C=3, gamma=0.01, kernel=linear;, score=0.767 total time=  11.9s\n",
      "[CV 3/5] END ....C=3, gamma=0.01, kernel=linear;, score=0.805 total time=   8.4s\n",
      "[CV 4/5] END ....C=3, gamma=0.01, kernel=linear;, score=0.737 total time=  12.0s\n",
      "[CV 5/5] END ....C=3, gamma=0.01, kernel=linear;, score=0.767 total time=   8.9s\n",
      "[CV 1/5] END ...C=3, gamma=0.001, kernel=linear;, score=0.754 total time=  12.6s\n",
      "[CV 2/5] END ...C=3, gamma=0.001, kernel=linear;, score=0.767 total time=  11.9s\n",
      "[CV 3/5] END ...C=3, gamma=0.001, kernel=linear;, score=0.805 total time=   8.5s\n",
      "[CV 4/5] END ...C=3, gamma=0.001, kernel=linear;, score=0.737 total time=  11.6s\n",
      "[CV 5/5] END ...C=3, gamma=0.001, kernel=linear;, score=0.767 total time=   8.8s\n",
      "[CV 1/5] END ..C=3, gamma=0.0001, kernel=linear;, score=0.754 total time=  12.6s\n",
      "[CV 2/5] END ..C=3, gamma=0.0001, kernel=linear;, score=0.767 total time=  11.8s\n",
      "[CV 3/5] END ..C=3, gamma=0.0001, kernel=linear;, score=0.805 total time=   8.5s\n",
      "[CV 4/5] END ..C=3, gamma=0.0001, kernel=linear;, score=0.737 total time=  11.6s\n",
      "[CV 5/5] END ..C=3, gamma=0.0001, kernel=linear;, score=0.767 total time=   8.8s\n",
      "[CV 1/5] END ......C=10, gamma=1, kernel=linear;, score=0.754 total time=  16.0s\n",
      "[CV 2/5] END ......C=10, gamma=1, kernel=linear;, score=0.767 total time=  16.4s\n",
      "[CV 3/5] END ......C=10, gamma=1, kernel=linear;, score=0.805 total time=  12.9s\n",
      "[CV 4/5] END ......C=10, gamma=1, kernel=linear;, score=0.737 total time=  15.0s\n",
      "[CV 5/5] END ......C=10, gamma=1, kernel=linear;, score=0.767 total time=  13.6s\n",
      "[CV 1/5] END ....C=10, gamma=0.1, kernel=linear;, score=0.754 total time=  16.1s\n",
      "[CV 2/5] END ....C=10, gamma=0.1, kernel=linear;, score=0.767 total time=  16.5s\n",
      "[CV 3/5] END ....C=10, gamma=0.1, kernel=linear;, score=0.805 total time=  13.0s\n",
      "[CV 4/5] END ....C=10, gamma=0.1, kernel=linear;, score=0.737 total time=  15.2s\n",
      "[CV 5/5] END ....C=10, gamma=0.1, kernel=linear;, score=0.767 total time=  13.8s\n",
      "[CV 1/5] END ...C=10, gamma=0.01, kernel=linear;, score=0.754 total time=  16.0s\n",
      "[CV 2/5] END ...C=10, gamma=0.01, kernel=linear;, score=0.767 total time=  16.4s\n",
      "[CV 3/5] END ...C=10, gamma=0.01, kernel=linear;, score=0.805 total time=  12.9s\n",
      "[CV 4/5] END ...C=10, gamma=0.01, kernel=linear;, score=0.737 total time=  15.1s\n",
      "[CV 5/5] END ...C=10, gamma=0.01, kernel=linear;, score=0.767 total time=  13.6s\n",
      "[CV 1/5] END ..C=10, gamma=0.001, kernel=linear;, score=0.754 total time=  15.9s\n",
      "[CV 2/5] END ..C=10, gamma=0.001, kernel=linear;, score=0.767 total time=  16.4s\n",
      "[CV 3/5] END ..C=10, gamma=0.001, kernel=linear;, score=0.805 total time=  12.9s\n",
      "[CV 4/5] END ..C=10, gamma=0.001, kernel=linear;, score=0.737 total time=  15.2s\n",
      "[CV 5/5] END ..C=10, gamma=0.001, kernel=linear;, score=0.767 total time=  13.6s\n",
      "[CV 1/5] END .C=10, gamma=0.0001, kernel=linear;, score=0.754 total time=  16.2s\n",
      "[CV 2/5] END .C=10, gamma=0.0001, kernel=linear;, score=0.767 total time=  16.5s\n",
      "[CV 3/5] END .C=10, gamma=0.0001, kernel=linear;, score=0.805 total time=  13.0s\n",
      "[CV 4/5] END .C=10, gamma=0.0001, kernel=linear;, score=0.737 total time=  15.0s\n",
      "[CV 5/5] END .C=10, gamma=0.0001, kernel=linear;, score=0.767 total time=  13.5s\n",
      "[CV 1/5] END ......C=20, gamma=1, kernel=linear;, score=0.754 total time=  21.7s\n",
      "[CV 2/5] END ......C=20, gamma=1, kernel=linear;, score=0.767 total time=  17.2s\n",
      "[CV 3/5] END ......C=20, gamma=1, kernel=linear;, score=0.805 total time=  14.0s\n",
      "[CV 4/5] END ......C=20, gamma=1, kernel=linear;, score=0.737 total time=  15.1s\n",
      "[CV 5/5] END ......C=20, gamma=1, kernel=linear;, score=0.767 total time=  18.7s\n",
      "[CV 1/5] END ....C=20, gamma=0.1, kernel=linear;, score=0.754 total time=  21.8s\n",
      "[CV 2/5] END ....C=20, gamma=0.1, kernel=linear;, score=0.767 total time=  17.3s\n",
      "[CV 3/5] END ....C=20, gamma=0.1, kernel=linear;, score=0.805 total time=  13.9s\n",
      "[CV 4/5] END ....C=20, gamma=0.1, kernel=linear;, score=0.737 total time=  15.2s\n",
      "[CV 5/5] END ....C=20, gamma=0.1, kernel=linear;, score=0.767 total time=  18.8s\n",
      "[CV 1/5] END ...C=20, gamma=0.01, kernel=linear;, score=0.754 total time=  21.8s\n",
      "[CV 2/5] END ...C=20, gamma=0.01, kernel=linear;, score=0.767 total time=  17.4s\n",
      "[CV 3/5] END ...C=20, gamma=0.01, kernel=linear;, score=0.805 total time=  13.9s\n",
      "[CV 4/5] END ...C=20, gamma=0.01, kernel=linear;, score=0.737 total time=  15.5s\n",
      "[CV 5/5] END ...C=20, gamma=0.01, kernel=linear;, score=0.767 total time=  18.8s\n",
      "[CV 1/5] END ..C=20, gamma=0.001, kernel=linear;, score=0.754 total time=  21.9s\n",
      "[CV 2/5] END ..C=20, gamma=0.001, kernel=linear;, score=0.767 total time=  17.3s\n",
      "[CV 3/5] END ..C=20, gamma=0.001, kernel=linear;, score=0.805 total time=  14.0s\n",
      "[CV 4/5] END ..C=20, gamma=0.001, kernel=linear;, score=0.737 total time=  15.3s\n",
      "[CV 5/5] END ..C=20, gamma=0.001, kernel=linear;, score=0.767 total time=  18.7s\n",
      "[CV 1/5] END .C=20, gamma=0.0001, kernel=linear;, score=0.754 total time=  22.1s\n",
      "[CV 2/5] END .C=20, gamma=0.0001, kernel=linear;, score=0.767 total time=  17.4s\n",
      "[CV 3/5] END .C=20, gamma=0.0001, kernel=linear;, score=0.805 total time=  14.0s\n",
      "[CV 4/5] END .C=20, gamma=0.0001, kernel=linear;, score=0.737 total time=  15.3s\n",
      "[CV 5/5] END .C=20, gamma=0.0001, kernel=linear;, score=0.767 total time=  18.8s\n"
     ]
    },
    {
     "data": {
      "text/plain": [
       "GridSearchCV(estimator=SVC(),\n",
       "             param_grid={'C': [0.1, 1, 3, 10, 20],\n",
       "                         'gamma': [1, 0.1, 0.01, 0.001, 0.0001],\n",
       "                         'kernel': ['linear']},\n",
       "             verbose=3)"
      ]
     },
     "execution_count": 25,
     "metadata": {},
     "output_type": "execute_result"
    }
   ],
   "source": [
    "model_SVM.fit(X_train, y_train)"
   ]
  },
  {
   "cell_type": "code",
   "execution_count": 30,
   "id": "3848419c",
   "metadata": {},
   "outputs": [
    {
     "name": "stdout",
     "output_type": "stream",
     "text": [
      "{'C': 0.1, 'gamma': 1, 'kernel': 'linear'}\n"
     ]
    }
   ],
   "source": [
    "print(model_SVM.best_params_)"
   ]
  },
  {
   "cell_type": "code",
   "execution_count": 26,
   "id": "69fe5cf8",
   "metadata": {},
   "outputs": [],
   "source": [
    "y_pred_svm = model_SVM.predict(X_test)"
   ]
  },
  {
   "cell_type": "code",
   "execution_count": 27,
   "id": "aa123da1",
   "metadata": {},
   "outputs": [
    {
     "data": {
      "text/plain": [
       "84.75336322869956"
      ]
     },
     "execution_count": 27,
     "metadata": {},
     "output_type": "execute_result"
    }
   ],
   "source": [
    "model_SVM.score(X_test, y_test)*100"
   ]
  },
  {
   "cell_type": "code",
   "execution_count": 28,
   "id": "525c31b8",
   "metadata": {},
   "outputs": [
    {
     "data": {
      "text/plain": [
       "<sklearn.metrics._plot.confusion_matrix.ConfusionMatrixDisplay at 0x1fbc6946460>"
      ]
     },
     "execution_count": 28,
     "metadata": {},
     "output_type": "execute_result"
    },
    {
     "data": {
      "image/png": "[encoded data removed]",
      "text/plain": [
       "<Figure size 640x480 with 2 Axes>"
      ]
     },
     "metadata": {},
     "output_type": "display_data"
    }
   ],
   "source": [
    "conf_mat_svm = confusion_matrix(y_test, y_pred_svm)\n",
    "ConfusionMatrixDisplay(conf_mat_svm).plot()"
   ]
  },
  {
   "cell_type": "code",
   "execution_count": 29,
   "id": "054aa32d",
   "metadata": {},
   "outputs": [
    {
     "name": "stdout",
     "output_type": "stream",
     "text": [
      "              precision    recall  f1-score   support\n",
      "\n",
      "           0       0.87      0.91      0.89       151\n",
      "           1       0.80      0.71      0.75        72\n",
      "\n",
      "    accuracy                           0.85       223\n",
      "   macro avg       0.83      0.81      0.82       223\n",
      "weighted avg       0.84      0.85      0.85       223\n",
      "\n"
     ]
    }
   ],
   "source": [
    "print(classification_report(y_test, y_pred_svm))"
   ]
  },
  {
   "cell_type": "markdown",
   "id": "9e28819c",
   "metadata": {},
   "source": [
    "# Building Random Forest Model"
   ]
  },
  {
   "cell_type": "code",
   "execution_count": 32,
   "id": "00788aee",
   "metadata": {},
   "outputs": [],
   "source": [
    "model_rf = RandomForestClassifier()"
   ]
  },
  {
   "cell_type": "code",
   "execution_count": 33,
   "id": "859a2b1a",
   "metadata": {},
   "outputs": [
    {
     "data": {
      "text/plain": [
       "RandomForestClassifier()"
      ]
     },
     "execution_count": 33,
     "metadata": {},
     "output_type": "execute_result"
    }
   ],
   "source": [
    "model_rf.fit(X_train, y_train)"
   ]
  },
  {
   "cell_type": "code",
   "execution_count": 34,
   "id": "40221b64",
   "metadata": {},
   "outputs": [],
   "source": [
    "y_pred_rf = model_rf.predict(X_test)"
   ]
  },
  {
   "cell_type": "code",
   "execution_count": 35,
   "id": "e1865ccf",
   "metadata": {},
   "outputs": [
    {
     "data": {
      "text/plain": [
       "0.8161434977578476"
      ]
     },
     "execution_count": 35,
     "metadata": {},
     "output_type": "execute_result"
    }
   ],
   "source": [
    "model_rf.score(X_test, y_test)"
   ]
  },
  {
   "cell_type": "code",
   "execution_count": 36,
   "id": "08c0b1fd",
   "metadata": {},
   "outputs": [
    {
     "data": {
      "text/plain": [
       "<sklearn.metrics._plot.confusion_matrix.ConfusionMatrixDisplay at 0x1fbc686f6a0>"
      ]
     },
     "execution_count": 36,
     "metadata": {},
     "output_type": "execute_result"
    },
    {
     "data": {
      "image/png": "[encoded data removed]",
      "text/plain": [
       "<Figure size 640x480 with 2 Axes>"
      ]
     },
     "metadata": {},
     "output_type": "display_data"
    }
   ],
   "source": [
    "conf_mat_rf = confusion_matrix(y_test, y_pred_rf)\n",
    "ConfusionMatrixDisplay(conf_mat_rf).plot()"
   ]
  },
  {
   "cell_type": "code",
   "execution_count": 37,
   "id": "f8f2c7b7",
   "metadata": {},
   "outputs": [
    {
     "name": "stdout",
     "output_type": "stream",
     "text": [
      "              precision    recall  f1-score   support\n",
      "\n",
      "           0       0.90      0.82      0.86       151\n",
      "           1       0.68      0.81      0.74        72\n",
      "\n",
      "    accuracy                           0.82       223\n",
      "   macro avg       0.79      0.81      0.80       223\n",
      "weighted avg       0.83      0.82      0.82       223\n",
      "\n"
     ]
    }
   ],
   "source": [
    "print(classification_report(y_test, y_pred_rf))"
   ]
  },
  {
   "cell_type": "code",
   "execution_count": null,
   "id": "812d1ca3",
   "metadata": {},
   "outputs": [],
   "source": []
  }
 ],
 "metadata": {
  "kernelspec": {
   "display_name": "Python 3 (ipykernel)",
   "language": "python",
   "name": "python3"
  },
  "language_info": {
   "codemirror_mode": {
    "name": "ipython",
    "version": 3
   },
   "file_extension": ".py",
   "mimetype": "text/x-python",
   "name": "python",
   "nbconvert_exporter": "python",
   "pygments_lexer": "ipython3",
   "version": "3.9.13"
  }
 },
 "nbformat": 4,
 "nbformat_minor": 5
}
